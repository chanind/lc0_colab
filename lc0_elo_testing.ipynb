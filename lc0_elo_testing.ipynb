{
  "cells": [
    {
      "cell_type": "markdown",
      "metadata": {
        "id": "view-in-github",
        "colab_type": "text"
      },
      "source": [
        "<a href=\"https://colab.research.google.com/github/chanind/lc0_colab_notebooks/blob/main/lc0_elo_testing.ipynb\" target=\"_parent\"><img src=\"https://colab.research.google.com/assets/colab-badge.svg\" alt=\"Open In Colab\"/></a>"
      ]
    },
    {
      "cell_type": "markdown",
      "source": [
        "# Leela Chess Zero Elo Testing\n",
        "\n",
        "This Colab implements the ideas from the [Lc0 Testing Guide](https://lczero.org/dev/wiki/testing-guide/) to test out Lc0 by having it compete against other chess engines. Edit this Colab to test out different configurations or networks for Lc0, or use it as as base for your own explorations. The implementation presented here just runs standard Lc0 against standard Stockfish.\n",
        "\n",
        "\n",
        "*Make sure to run this on a GPU instance to get the best performance from Lc0.*"
      ],
      "metadata": {
        "id": "6LacRV6jAJjC"
      }
    },
    {
      "cell_type": "code",
      "source": [
        "# Ensure that a GPU is available\n",
        "import subprocess\n",
        "smi=subprocess.run([\"nvidia-smi\", \"-L\"], stdout=subprocess.PIPE)\n",
        "if smi.returncode != 0:\n",
        "  assert False, \"No GPU available!\"\n",
        "print(smi.stdout.decode())"
      ],
      "metadata": {
        "id": "cUzU4kW7KNd9"
      },
      "execution_count": null,
      "outputs": []
    },
    {
      "cell_type": "code",
      "source": [
        "# Install cutechess-cli, ordo, lc0, and stockfish\n",
        "# This may take a few minute to run\n",
        "\n",
        "# install Ordo\n",
        "%cd /content\n",
        "!rm -rf Ordo\n",
        "!git clone --recurse-submodules https://github.com/michiguel/Ordo.git\n",
        "%cd Ordo\n",
        "! make\n",
        "! make install\n",
        "\n",
        "# install qt 5.12 for cutechess\n",
        "! add-apt-repository -y ppa:beineri/opt-qt-5.12.6-bionic\n",
        "! apt install qt512-meta-minimal\n",
        "\n",
        "# install cutechess-cli\n",
        "%cd /content\n",
        "!rm -rf cutechess\n",
        "!git clone --recurse-submodules https://github.com/cutechess/cutechess.git\n",
        "%cd cutechess/projects\n",
        "! /opt/qt512/bin/qmake -after \"SUBDIRS = lib cli\"\n",
        "! make\n",
        "\n",
        "# install lc0 v0.28\n",
        "! apt install ninja-build\n",
        "! pip3 install meson\n",
        "%cd /content\n",
        "!rm -rf lc0\n",
        "! git clone -b release/0.28 --recurse-submodules https://github.com/LeelaChessZero/lc0.git\n",
        "%cd lc0\n",
        "! ./build.sh\n",
        "\n",
        "# install stockfish 14.1\n",
        "%cd /content\n",
        "!wget https://stockfishchess.org/files/stockfish_14.1_linux_x64.zip\n",
        "!unzip stockfish_14.1_linux_x64.zip\n",
        "!cp stockfish_14.1_linux_x64/stockfish_14.1_linux_x64 stockfish\n",
        "!chmod +x stockfish\n"
      ],
      "metadata": {
        "id": "oda7IqFSd_uE"
      },
      "execution_count": null,
      "outputs": []
    },
    {
      "cell_type": "code",
      "source": [
        "# download openings book\n",
        "%cd /content\n",
        "!wget https://cdn.discordapp.com/attachments/429710776282906625/536596158018224139/openings.zip\n",
        "!unzip openings.zip\n",
        "\n",
        "# download a net for lc0\n",
        "# check https://lczero.org/play/networks/bestnets/ for more nets\n",
        "%cd /content\n",
        "! wget -O lc0-net http://training.lczero.org/get_network?sha=98412989c314a93aa4f2301faa0c8a93a95739ed10661f3674d7e923f269acd6"
      ],
      "metadata": {
        "id": "S3_uBFVqGkmp"
      },
      "execution_count": null,
      "outputs": []
    },
    {
      "cell_type": "code",
      "source": [
        "# Setup CuteChess engines.json config\n",
        "# Edit this to change which engines are available for testing\n",
        "CUTECHESS_ENGINES_JSON = \"\"\"\n",
        "[\n",
        "    {\n",
        "        \"command\": \"/content/lc0/build/release/lc0\",\n",
        "        \"name\": \"lc0\",\n",
        "        \"options\": [\n",
        "            {\n",
        "                \"name\": \"WeightsFile\",\n",
        "                \"value\": \"/content/lc0-net\"\n",
        "            },\n",
        "            {\n",
        "                \"name\": \"Threads\",\n",
        "                \"value\": 2\n",
        "            }\n",
        "        ],\n",
        "        \"protocol\": \"uci\",\n",
        "        \"workingDirectory\": \"/content\"\n",
        "    },\n",
        "    {\n",
        "        \"command\": \"/content/stockfish\",\n",
        "        \"name\": \"sf\",\n",
        "        \"options\": [\n",
        "            {\n",
        "                \"name\": \"Hash\",\n",
        "                \"value\": 256\n",
        "            },\n",
        "            {\n",
        "                \"name\": \"Threads\",\n",
        "                \"value\": 12\n",
        "            }\n",
        "        ],\n",
        "        \"protocol\": \"uci\",\n",
        "        \"workingDirectory\": \"/content\"\n",
        "    }\n",
        "]\n",
        "\"\"\"\n",
        "with open('/content/engines.json', 'w') as config_file:\n",
        "  config_file.write(CUTECHESS_ENGINES_JSON)"
      ],
      "metadata": {
        "id": "tj9x78-8KfvR"
      },
      "execution_count": null,
      "outputs": []
    },
    {
      "cell_type": "code",
      "source": [
        "# Run the tournament!\n",
        "# change the params below to adjust the rules of the tournament\n",
        "# incrase \"rounds\" for more accurate but slower results\n",
        "%cd /content\n",
        "!/content/cutechess/projects/cli/cutechess-cli \\\n",
        "  -tournament gauntlet \\\n",
        "  -concurrency 1 \\\n",
        "  -pgnout output_pgn_file.pgn \\\n",
        "  -engine conf=sf tc=5.2+0.0832 \\\n",
        "  -engine conf=lc0 tc=4+0.064 \\\n",
        "  -draw movenumber=40 movecount=4 score=8 \\\n",
        "  -resign movecount=4 score=500 \\\n",
        "  -each proto=uci \\\n",
        "  -openings file=openings-6ply-1000.pgn \\\n",
        "  policy=round -repeat \\\n",
        "  -rounds 100 \\\n",
        "  -games 2"
      ],
      "metadata": {
        "id": "K3Ui4K6ALGse"
      },
      "execution_count": null,
      "outputs": []
    },
    {
      "cell_type": "code",
      "source": [
        "# calculate Elo relative to stockfish\n",
        "%cd /content\n",
        "! ordo -Q -D -a 0 -A \"sf\" -W -n8 -s1000 -U \"0,1,2,3,4,5,6,7,8,9,10\" -j h2h.txt -C matrix.csv -p output_pgn_file.pgn"
      ],
      "metadata": {
        "colab": {
          "base_uri": "https://localhost:8080/"
        },
        "id": "ROsNWJmvc4vf",
        "outputId": "a1d18623-f6f4-430b-bd07-d9511613f4a5"
      },
      "execution_count": null,
      "outputs": [
        {
          "output_type": "stream",
          "name": "stdout",
          "text": [
            "/content\n",
            "0   10   20   30   40   50   60   70   80   90   100 (%)\n",
            "|----|----|----|----|----|----|----|----|----|----|\n",
            "***************************************************\n",
            "\n",
            "   # PLAYER    :  RATING  ERROR  POINTS  PLAYED   (%)  CFS(%)    W    D    L  D(%)\n",
            "   1 sf        :     0.0   ----   168.5     203    83     100  144   49   10    24\n",
            "   2 lc0       :  -280.1   50.7    34.5     203    17     ---   10   49  144    24\n",
            "\n",
            "White advantage = 34.94 +/- 24.63\n",
            "Draw rate (equal opponents) = 39.59 % +/- 5.59\n",
            "\n"
          ]
        }
      ]
    }
  ],
  "metadata": {
    "colab": {
      "background_execution": "on",
      "name": "lc0_elo_testing.ipynb",
      "provenance": [],
      "collapsed_sections": [],
      "authorship_tag": "ABX9TyMEC7zL+tsh5rbMY53j3QNM",
      "include_colab_link": true
    },
    "kernelspec": {
      "display_name": "Python 3",
      "name": "python3"
    },
    "language_info": {
      "name": "python"
    },
    "accelerator": "GPU"
  },
  "nbformat": 4,
  "nbformat_minor": 0
}
