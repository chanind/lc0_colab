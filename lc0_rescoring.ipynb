{
  "cells": [
    {
      "cell_type": "markdown",
      "metadata": {
        "id": "view-in-github",
        "colab_type": "text"
      },
      "source": [
        "<a href=\"https://colab.research.google.com/github/chanind/lc0_colab_notebooks/blob/main/lc0_rescoring.ipynb\" target=\"_parent\"><img src=\"https://colab.research.google.com/assets/colab-badge.svg\" alt=\"Open In Colab\"/></a>"
      ]
    },
    {
      "cell_type": "markdown",
      "source": [
        "# Leela Chess Zero Rescoring\n",
        "\n",
        "This Colab runs the rescorer to improve the training data used for model training in leela chess zero. Rescoring makes uses of [syzygy tablebases](https://syzygy-tables.info/), which are lists of perfect endgames for all games with less than 5 (or 6 or 7) pieces remaining on the board. If any training games end up in a position that's known in the tablebase, the rescorer will rewrite the game using the known perfect play from the tablebase so that leela can lean from a perfect endgame rather than the potential mistakes in the traning game.\n",
        "\n",
        "Rescoring is used in the training of all the best nets for leela, and should always be used before running training for best results. Rescoring is CPU-only."
      ],
      "metadata": {
        "id": "BKDtF_584Aox"
      }
    },
    {
      "cell_type": "code",
      "source": [
        "# Download and untar some training data to rescore\n",
        "\n",
        "!mkdir -p /content/raw_training_data\n",
        "%cd /content/raw_training_data\n",
        "\n",
        "# change this to download whichever training runs you want, or load from google drive\n",
        "! wget https://storage.lczero.org/files/training_data/test78/training-run3-test78-20220217-0717.tar\n",
        "! wget https://storage.lczero.org/files/training_data/test78/training-run3-test78-20220216-1817.tar\n",
        "\n",
        "# untar the files we just downloaded and delete the original tar files\n",
        "! for f in *.tar; do tar -xf \"$f\"; rm \"$f\"; done"
      ],
      "metadata": {
        "id": "I54sML5D3_o4"
      },
      "execution_count": null,
      "outputs": []
    },
    {
      "cell_type": "markdown",
      "source": [
        "Check out the rescorer from Github, which is in https://github.com/Tilps/lc0 in the `rescore_tb` branch, and build from source."
      ],
      "metadata": {
        "id": "ExdWa7xujeLZ"
      }
    },
    {
      "cell_type": "code",
      "execution_count": null,
      "metadata": {
        "id": "br4FOjYdnBKz"
      },
      "outputs": [],
      "source": [
        "# install build deps\n",
        "! apt install ninja-build\n",
        "! pip3 install meson\n",
        "\n",
        "# checkout the repo from Github\n",
        "%cd /content\n",
        "!rm -rf lc0\n",
        "!git clone --recurse-submodules https://github.com/Tilps/lc0.git\n",
        "%cd lc0\n",
        "!git checkout rescore_tb\n",
        "!git pull\n",
        "\n",
        "# start building\n",
        "! ./build.sh"
      ]
    },
    {
      "cell_type": "markdown",
      "source": [
        "Download szyzygy 3-4-5 tablebases for use by the rescorer"
      ],
      "metadata": {
        "id": "m-ur3JbDkrM5"
      }
    },
    {
      "cell_type": "code",
      "source": [
        "! mkdir -p /content/syzygy-3-4-5\n",
        "%cd /content/syzygy-3-4-5\n",
        "\n",
        "from bs4 import BeautifulSoup\n",
        "import requests\n",
        "import urllib.parse\n",
        "\n",
        "# we'll scrape https://tablebase.lichess.ovh/tables/standard/3-4-5/ \n",
        "# and download each file listed there\n",
        "TABLEBASE_HOME_URL = 'https://tablebase.lichess.ovh/tables/standard/3-4-5/'\n",
        "\n",
        "soup = BeautifulSoup(requests.get(TABLEBASE_HOME_URL).content, \"html.parser\")\n",
        "tablebase_links = soup.select('a[href*=.rt]')\n",
        "for tablebase_link in tablebase_links:\n",
        "  filename = tablebase_link.attrs['href']\n",
        "  url = urllib.parse.urljoin(TABLEBASE_HOME_URL, filename)\n",
        "  tablebase_file = requests.get(url)\n",
        "  with open(filename, \"wb\") as file:\n",
        "      file.write(tablebase_file.content)"
      ],
      "metadata": {
        "id": "XoYrsg_skpwR"
      },
      "execution_count": null,
      "outputs": []
    },
    {
      "cell_type": "markdown",
      "source": [
        "Next, run rescoring and save the output to `/content/rescored_training_data`.\n",
        "\n",
        "NOTE: The rescorer will delete the original data files as it runs."
      ],
      "metadata": {
        "id": "c9oW3W5bkhiC"
      }
    },
    {
      "cell_type": "code",
      "source": [
        "! mkdir -p /content/rescored_training_data/\n",
        "%cd /content/raw_training_data/\n",
        "\n",
        "# The rescorer script can't handle file globs like /content/raw_training_data/*\n",
        "# So we need to do a loop in base and run it individually on each folder\n",
        "! for data_dir in *; do \\\n",
        "  mkdir \"/content/rescored_training_data/$data_dir\"; \\\n",
        "  /content/lc0/build/release/rescorer rescore \\\n",
        "    --threads=2 \\\n",
        "    --syzygy-paths=/content/syzygy-3-4-5/ \\\n",
        "    --input=\"/content/raw_training_data/$data_dir/\" \\\n",
        "    --output=\"/content/rescored_training_data/$data_dir\"; \\\n",
        "done"
      ],
      "metadata": {
        "id": "EMOWBoe2kgaS"
      },
      "execution_count": null,
      "outputs": []
    },
    {
      "cell_type": "markdown",
      "source": [
        "And we're done! The rescored training data is now in the `rescored_training_data` folder. You can move this into Google drive to save it for later, or use it in training runs immediately.\n",
        "\n",
        "For even better results, you can use larger tablebases. There are 6 and 7 piece tablebases available, but they take up dramatically more disk space than the 3-4-5 tablebase used here."
      ],
      "metadata": {
        "id": "ZAznTO6kCZ4W"
      }
    }
  ],
  "metadata": {
    "colab": {
      "background_execution": "on",
      "collapsed_sections": [],
      "name": "lc0_rescoring.ipynb",
      "provenance": [],
      "authorship_tag": "ABX9TyNwdm4zX6s4s3+0UIBgaDon",
      "include_colab_link": true
    },
    "kernelspec": {
      "display_name": "Python 3",
      "name": "python3"
    },
    "language_info": {
      "name": "python"
    }
  },
  "nbformat": 4,
  "nbformat_minor": 0
}